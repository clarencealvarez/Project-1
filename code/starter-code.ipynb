{
 "cells": [
  {
   "cell_type": "markdown",
   "metadata": {},
   "source": [
    "<img src=\"http://imgur.com/1ZcRyrc.png\" style=\"float: left; margin: 20px; height: 55px\">\n",
    "\n",
    "# Project 1: Standardized Test Analysis"
   ]
  },
  {
   "cell_type": "markdown",
   "metadata": {},
   "source": [
    "--- \n",
    "# Part 1\n",
    "\n",
    "Part 1 requires knowledge of basic Python.\n",
    "\n",
    "---"
   ]
  },
  {
   "cell_type": "markdown",
   "metadata": {},
   "source": [
    "## Problem Statement"
   ]
  },
  {
   "cell_type": "markdown",
   "metadata": {},
   "source": [
    "I have just been hired by College Spring, a company that offers a SAT preparation program. The company is in the beginning stages of expanding its services. As such, my first assignment is to provide insight on the best course of action for expansion."
   ]
  },
  {
   "cell_type": "markdown",
   "metadata": {
    "ExecuteTime": {
     "end_time": "2021-10-08T00:33:26.320714Z",
     "start_time": "2021-10-08T00:33:26.318265Z"
    }
   },
   "source": [
    "*Markdown*\n",
    "LaTeX $\\alpha^{2}$"
   ]
  },
  {
   "cell_type": "markdown",
   "metadata": {},
   "source": [
    "\n",
    "\n",
    "### Contents:\n",
    "- [Background](#Background)\n",
    "- [Data Import & Cleaning](#Data-Import-and-Cleaning)\n",
    "- [Exploratory Data Analysis](#Exploratory-Data-Analysis)\n",
    "- [Data Visualization](#Visualize-the-Data)\n",
    "- [Conclusions and Recommendations](#Conclusions-and-Recommendations)"
   ]
  },
  {
   "cell_type": "markdown",
   "metadata": {},
   "source": [
    "## Background"
   ]
  },
  {
   "cell_type": "markdown",
   "metadata": {},
   "source": [
    "The SAT and ACT are standardized tests that many colleges and universities in the United States require for their admissions process. This score is used along with other materials such as grade point average (GPA) and essay responses to determine whether or not a potential student will be accepted to the university.\n",
    "\n",
    "The SAT has two sections of the test: Evidence-Based Reading and Writing and Math ([*source*](https://www.princetonreview.com/college/sat-sections)). The ACT has 4 sections: English, Mathematics, Reading, and Science, with an additional optional writing section ([*source*](https://www.act.org/content/act/en/products-and-services/the-act/scores/understanding-your-scores.html)). They have different score ranges, which you can read more about on their websites or additional outside sources (a quick Google search will help you understand the scores for each test):\n",
    "* [SAT](https://collegereadiness.collegeboard.org/sat)\n",
    "* [ACT](https://www.act.org/content/act/en.html)\n",
    "\n",
    "Standardized tests have long been a controversial topic for students, administrators, and legislators. Since the 1940's, an increasing number of colleges have been using scores from sudents' performances on tests like the SAT and the ACT as a measure for college readiness and aptitude ([*source*](https://www.minotdailynews.com/news/local-news/2017/04/a-brief-history-of-the-sat-and-act/)). Supporters of these tests argue that these scores can be used as an objective measure to determine college admittance. Opponents of these tests claim that these tests are not accurate measures of students potential or ability and serve as an inequitable barrier to entry. Lately, more and more schools are opting to drop the SAT/ACT requirement for their Fall 2021 applications ([*read more about this here*](https://www.cnn.com/2020/04/14/us/coronavirus-colleges-sat-act-test-trnd/index.html))."
   ]
  },
  {
   "cell_type": "markdown",
   "metadata": {},
   "source": [
    "Currently, the College Spring is offering services to private and charter schools in Southern California, San Francisco Bay, and in New York. Company executives have made the decision to offer services to public schools as well. According to its most recent annual report, the company provided preparatory training to 5,500 students, of which a total of 4,400 were located in California. ([*2018-2019 Annual Report*](https://collegespring.org/wp-content/uploads/2019/11/CollegeSpring_Annual_Report_November_2019.pdf)) College Spring also reports increased college readiness for graduates of the program. ([*Impact*](https://collegespring.org/our-impact/)) Given these metrics, the next step in expanding services is determining the appropriate size for its first partner school district."
   ]
  },
  {
   "cell_type": "markdown",
   "metadata": {},
   "source": [
    "### Choose your Data\n",
    "\n",
    "There are 10 datasets included in the [`data`](./data/) folder for this project. You are required to pick **at least two** of these to complete your analysis. Feel free to use more than two if you would like, or add other relevant datasets you find online.\n",
    "\n",
    "* [`act_2017.csv`](./data/act_2017.csv): 2017 ACT Scores by State\n",
    "* [`act_2018.csv`](./data/act_2018.csv): 2018 ACT Scores by State\n",
    "* [`act_2019.csv`](./data/act_2019.csv): 2019 ACT Scores by State\n",
    "* [`act_2019_ca.csv`](./data/act_2019_ca.csv): 2019 ACT Scores in California by School\n",
    "* [`sat_2017.csv`](./data/sat_2017.csv): 2017 SAT Scores by State\n",
    "* [`sat_2018.csv`](./data/sat_2018.csv): 2018 SAT Scores by State\n",
    "* [`sat_2019.csv`](./data/sat_2019.csv): 2019 SAT Scores by State\n",
    "* [`sat_2019_by_intended_college_major.csv`](./data/sat_2019_by_intended_college_major.csv): 2019 SAT Scores by Intended College Major\n",
    "* [`sat_2019_ca.csv`](./data/sat_2019_ca.csv): 2019 SAT Scores in California by School\n",
    "* [`sat_act_by_college.csv`](./data/sat_act_by_college.csv): Ranges of Accepted ACT & SAT Student Scores by Colleges"
   ]
  },
  {
   "cell_type": "markdown",
   "metadata": {},
   "source": [
    "Datasets used:\n",
    "* [`sat_2019_ca.csv`](../data/sat_2019_ca.csv): 2019 SAT Scores in California by School\n",
    "* [`sat_2020_ca.csv`](../data/sat_2019_ca.csv): 2020 SAT Scores in California by School"
   ]
  },
  {
   "cell_type": "markdown",
   "metadata": {},
   "source": [
    "### Coding Challenges\n",
    "\n",
    "1. Manually calculate mean:\n",
    "\n",
    "    Write a function that takes in values and returns the mean of the values. Create a list of numbers that you test on your function to check to make sure your function works!\n",
    "    \n",
    "    *Note*: Do not use any mean methods built-in to any Python libraries to do this! This should be done without importing any additional libraries."
   ]
  },
  {
   "cell_type": "code",
   "execution_count": 1,
   "metadata": {
    "ExecuteTime": {
     "end_time": "2021-10-08T19:32:24.159518Z",
     "start_time": "2021-10-08T19:32:24.145515Z"
    },
    "code_folding": []
   },
   "outputs": [
    {
     "name": "stdout",
     "output_type": "stream",
     "text": [
      "120\n",
      "6\n",
      "20.0\n"
     ]
    }
   ],
   "source": [
    "test_list = [15, 15, 13, 26, 14, 37]\n",
    "\n",
    "def calculate_mean(number_list):\n",
    "    return round(sum([number for number in number_list])/len(number_list),2)\n",
    "\n",
    "print(sum(test_list))\n",
    "print(len(test_list))\n",
    "print(calculate_mean(test_list))"
   ]
  },
  {
   "cell_type": "markdown",
   "metadata": {},
   "source": [
    "2. Manually calculate standard deviation:\n",
    "\n",
    "    The formula for standard deviation is below:\n",
    "\n",
    "    $$\\sigma = \\sqrt{\\frac{1}{n}\\sum_{i=1}^n(x_i - \\mu)^2}$$\n",
    "\n",
    "    Where $x_i$ represents each value in the dataset, $\\mu$ represents the mean of all values in the dataset and $n$ represents the number of values in the dataset.\n",
    "\n",
    "    Write a function that takes in values and returns the standard deviation of the values using the formula above. Hint: use the function you wrote above to calculate the mean! Use the list of numbers you created above to test on your function.\n",
    "    \n",
    "    *Note*: Do not use any standard deviation methods built-in to any Python libraries to do this! This should be done without importing any additional libraries."
   ]
  },
  {
   "cell_type": "code",
   "execution_count": 2,
   "metadata": {
    "ExecuteTime": {
     "end_time": "2021-10-08T19:32:24.175522Z",
     "start_time": "2021-10-08T19:32:24.160518Z"
    },
    "code_folding": []
   },
   "outputs": [
    {
     "data": {
      "text/plain": [
       "8.76"
      ]
     },
     "execution_count": 2,
     "metadata": {},
     "output_type": "execute_result"
    }
   ],
   "source": [
    "def standard_dev(number_list):\n",
    "    return round(((1/len(number_list)) * sum([(i - calculate_mean(number_list)) ** 2 for i in number_list])) ** 0.5,2)\n",
    "\n",
    "standard_dev(test_list)"
   ]
  },
  {
   "cell_type": "markdown",
   "metadata": {},
   "source": [
    "3. Data cleaning function:\n",
    "    \n",
    "    Write a function that takes in a string that is a number and a percent symbol (ex. '50%', '30.5%', etc.) and converts this to a float that is the decimal approximation of the percent. For example, inputting '50%' in your function should return 0.5, '30.5%' should return 0.305, etc. Make sure to test your function to make sure it works!\n",
    "\n",
    "You will use these functions later on in the project!"
   ]
  },
  {
   "cell_type": "code",
   "execution_count": 3,
   "metadata": {
    "ExecuteTime": {
     "end_time": "2021-10-08T19:32:24.190524Z",
     "start_time": "2021-10-08T19:32:24.176521Z"
    },
    "code_folding": [
     0
    ]
   },
   "outputs": [
    {
     "data": {
      "text/plain": [
       "-0.6401"
      ]
     },
     "execution_count": 3,
     "metadata": {},
     "output_type": "execute_result"
    }
   ],
   "source": [
    "# Not actually used in data cleaning, datasets did not have '%'\n",
    "def pct_flt_conv(percent_string):\n",
    "    # removing all non-numbers in string (negative sign, decimal point, percent sign)\n",
    "    digits = ''.join([str(digit) for digit in percent_string if digit.isnumeric()])\n",
    "    # determining how many places to move the decimal point\n",
    "    # first accounting for strings (+/-) not containing decimal point\n",
    "    if '-' not in percent_string and '.' not in percent_string:\n",
    "        return int(digits)/100\n",
    "    elif '-' in percent_string and not '.' in percent_string:\n",
    "        return -(int(digits))/100\n",
    "    # accounting for strings (+/-) containing decimal point\n",
    "    elif '-' not in percent_string and '.' in percent_string:\n",
    "        return int(digits) * (10 ** -(percent_string.index('%')-percent_string.index('.')+1))\n",
    "    elif '-' in percent_string and '.' in percent_string:\n",
    "        return -int(digits) * (10 ** -(percent_string.index('%')-percent_string.index('.')+1))\n",
    "    \n",
    "pct_flt_conv('-64.01%')"
   ]
  },
  {
   "cell_type": "markdown",
   "metadata": {},
   "source": [
    "--- \n",
    "# Part 2\n",
    "\n",
    "Part 2 requires knowledge of Pandas, EDA, data cleaning, and data visualization.\n",
    "\n",
    "---"
   ]
  },
  {
   "cell_type": "markdown",
   "metadata": {},
   "source": [
    "*All libraries used should be added here*"
   ]
  },
  {
   "cell_type": "code",
   "execution_count": 4,
   "metadata": {
    "ExecuteTime": {
     "end_time": "2021-10-08T19:32:25.043709Z",
     "start_time": "2021-10-08T19:32:24.191525Z"
    }
   },
   "outputs": [],
   "source": [
    "import matplotlib as plt\n",
    "import numpy as np\n",
    "import seaborn as sns\n",
    "import pandas as pd"
   ]
  },
  {
   "cell_type": "markdown",
   "metadata": {},
   "source": [
    "## Data Import and Cleaning"
   ]
  },
  {
   "cell_type": "markdown",
   "metadata": {},
   "source": [
    "### Data Import & Cleaning\n",
    "\n",
    "Import the datasets that you selected for this project and go through the following steps at a minimum. You are welcome to do further cleaning as you feel necessary:\n",
    "1. Display the data: print the first 5 rows of each dataframe to your Jupyter notebook.\n",
    "2. Check for missing values.\n",
    "3. Check for any obvious issues with the observations (keep in mind the minimum & maximum possible values for each test/subtest).\n",
    "4. Fix any errors you identified in steps 2-3.\n",
    "5. Display the data types of each feature.\n",
    "6. Fix any incorrect data types found in step 5.\n",
    "    - Fix any individual values preventing other columns from being the appropriate type.\n",
    "    - If your dataset has a column of percents (ex. '50%', '30.5%', etc.), use the function you wrote in Part 1 (coding challenges, number 3) to convert this to floats! *Hint*: use `.map()` or `.apply()`.\n",
    "7. Rename Columns.\n",
    "    - Column names should be all lowercase.\n",
    "    - Column names should not contain spaces (underscores will suffice--this allows for using the `df.column_name` method to access columns in addition to `df['column_name']`).\n",
    "    - Column names should be unique and informative.\n",
    "8. Drop unnecessary rows (if needed).\n",
    "9. Merge dataframes that can be merged.\n",
    "10. Perform any additional cleaning that you feel is necessary.\n",
    "11. Save your cleaned and merged dataframes as csv files."
   ]
  },
  {
   "cell_type": "code",
   "execution_count": 5,
   "metadata": {
    "ExecuteTime": {
     "end_time": "2021-10-08T19:32:25.075717Z",
     "start_time": "2021-10-08T19:32:25.044710Z"
    },
    "code_folding": [
     0
    ]
   },
   "outputs": [],
   "source": [
    "# Importing datasets, defining functions\n",
    "\n",
    "df_sat19 = pd.read_csv('../data/sat_2019_ca.csv')\n",
    "df_sat20 = pd.read_csv('../data/sat_2020_ca.csv')\n",
    "\n",
    "# Functions for potential impact\n",
    "\n",
    "def potential_impact_ERW(pct_erw):\n",
    "    return pct_erw * 0.7742\n",
    "def potential_impact_Math(pct_math):\n",
    "    return pct_math * 1.3077\n",
    "\n",
    "# Functions for conversions\n",
    "\n",
    "def pct_flt_conv2(percent_string): \n",
    "    digits = ''.join([str(digit) for digit in percent_string if digit.isnumeric()])\n",
    "    if digits == [] or percent_string == '':\n",
    "        return percent_string\n",
    "    if '-' not in percent_string and '.' in percent_string:\n",
    "        return float(digits) * (10 ** -(len(digits)-percent_string.index('.')+2))\n",
    "    elif '-' in percent_string and '.' in percent_string:\n",
    "        return -float(digits) * (10 ** -(len(digits)-percent_string.index('.')+3))\n",
    "    elif '-' not in percent_string and '.' not in percent_string:\n",
    "        return float(digits) / 100\n",
    "    elif '-' in percent_string and '.' not in percent_string:\n",
    "        return -float(digits) / 100\n",
    "    \n",
    "def flt_int_conversion(flt):\n",
    "    return int(flt)"
   ]
  },
  {
   "cell_type": "markdown",
   "metadata": {},
   "source": [
    "Above, in addition to importing datasets, functions to be called later in cleaning were also defined. Two conversion functions, two functions used to apply scalars to find the proportional increase in percentage of students meething the benchmarks for Evidence-Based Reading and Writing and Math.\n",
    "\n",
    "Calculated as:\n",
    "\n",
    "Scalar = (After CollegeSpring - Before CollegeSpring) / Before CollegeSpring\n",
    "\n",
    "![\"success scalar\"](../images/College_Spring_stats.jpg)\n",
    "Taken from College Spring ([*website*](https://collegespring.org/our-impact/))"
   ]
  },
  {
   "cell_type": "code",
   "execution_count": 6,
   "metadata": {
    "ExecuteTime": {
     "end_time": "2021-10-08T19:32:25.107840Z",
     "start_time": "2021-10-08T19:32:25.076717Z"
    },
    "code_folding": [
     0
    ]
   },
   "outputs": [
    {
     "data": {
      "text/html": [
       "<div>\n",
       "<style scoped>\n",
       "    .dataframe tbody tr th:only-of-type {\n",
       "        vertical-align: middle;\n",
       "    }\n",
       "\n",
       "    .dataframe tbody tr th {\n",
       "        vertical-align: top;\n",
       "    }\n",
       "\n",
       "    .dataframe thead th {\n",
       "        text-align: right;\n",
       "    }\n",
       "</style>\n",
       "<table border=\"1\" class=\"dataframe\">\n",
       "  <thead>\n",
       "    <tr style=\"text-align: right;\">\n",
       "      <th></th>\n",
       "      <th>CDS</th>\n",
       "      <th>CCode</th>\n",
       "      <th>CDCode</th>\n",
       "      <th>SCode</th>\n",
       "      <th>RType</th>\n",
       "      <th>SName</th>\n",
       "      <th>DName</th>\n",
       "      <th>CName</th>\n",
       "      <th>Enroll12</th>\n",
       "      <th>NumTSTTakr12</th>\n",
       "      <th>...</th>\n",
       "      <th>NumERWBenchmark11</th>\n",
       "      <th>PctERWBenchmark11</th>\n",
       "      <th>NumMathBenchmark11</th>\n",
       "      <th>PctMathBenchmark11</th>\n",
       "      <th>TotNumBothBenchmark12</th>\n",
       "      <th>PctBothBenchmark12</th>\n",
       "      <th>TotNumBothBenchmark11</th>\n",
       "      <th>PctBothBenchmark11</th>\n",
       "      <th>Year</th>\n",
       "      <th>Unnamed: 25</th>\n",
       "    </tr>\n",
       "  </thead>\n",
       "  <tbody>\n",
       "    <tr>\n",
       "      <th>0</th>\n",
       "      <td>6.615981e+12</td>\n",
       "      <td>6.0</td>\n",
       "      <td>661598.0</td>\n",
       "      <td>630046.0</td>\n",
       "      <td>S</td>\n",
       "      <td>Colusa Alternative Home</td>\n",
       "      <td>Colusa Unified</td>\n",
       "      <td>Colusa</td>\n",
       "      <td>18.0</td>\n",
       "      <td>0.0</td>\n",
       "      <td>...</td>\n",
       "      <td>NaN</td>\n",
       "      <td>NaN</td>\n",
       "      <td>NaN</td>\n",
       "      <td>NaN</td>\n",
       "      <td>NaN</td>\n",
       "      <td>NaN</td>\n",
       "      <td>NaN</td>\n",
       "      <td>NaN</td>\n",
       "      <td>2018-19</td>\n",
       "      <td>NaN</td>\n",
       "    </tr>\n",
       "    <tr>\n",
       "      <th>1</th>\n",
       "      <td>6.616061e+12</td>\n",
       "      <td>6.0</td>\n",
       "      <td>661606.0</td>\n",
       "      <td>634758.0</td>\n",
       "      <td>S</td>\n",
       "      <td>Maxwell Sr High</td>\n",
       "      <td>Maxwell Unified</td>\n",
       "      <td>Colusa</td>\n",
       "      <td>29.0</td>\n",
       "      <td>10.0</td>\n",
       "      <td>...</td>\n",
       "      <td>*</td>\n",
       "      <td>*</td>\n",
       "      <td>*</td>\n",
       "      <td>*</td>\n",
       "      <td>*</td>\n",
       "      <td>*</td>\n",
       "      <td>*</td>\n",
       "      <td>*</td>\n",
       "      <td>2018-19</td>\n",
       "      <td>NaN</td>\n",
       "    </tr>\n",
       "    <tr>\n",
       "      <th>2</th>\n",
       "      <td>1.964733e+13</td>\n",
       "      <td>19.0</td>\n",
       "      <td>1964733.0</td>\n",
       "      <td>1930924.0</td>\n",
       "      <td>S</td>\n",
       "      <td>Belmont Senior High</td>\n",
       "      <td>Los Angeles Unified</td>\n",
       "      <td>Los Angeles</td>\n",
       "      <td>206.0</td>\n",
       "      <td>102.0</td>\n",
       "      <td>...</td>\n",
       "      <td>42</td>\n",
       "      <td>24.14</td>\n",
       "      <td>12</td>\n",
       "      <td>6.90</td>\n",
       "      <td>14</td>\n",
       "      <td>13.73</td>\n",
       "      <td>11</td>\n",
       "      <td>6.32</td>\n",
       "      <td>2018-19</td>\n",
       "      <td>NaN</td>\n",
       "    </tr>\n",
       "    <tr>\n",
       "      <th>3</th>\n",
       "      <td>1.964733e+13</td>\n",
       "      <td>19.0</td>\n",
       "      <td>1964733.0</td>\n",
       "      <td>1931476.0</td>\n",
       "      <td>S</td>\n",
       "      <td>Canoga Park Senior High</td>\n",
       "      <td>Los Angeles Unified</td>\n",
       "      <td>Los Angeles</td>\n",
       "      <td>227.0</td>\n",
       "      <td>113.0</td>\n",
       "      <td>...</td>\n",
       "      <td>97</td>\n",
       "      <td>35.27</td>\n",
       "      <td>37</td>\n",
       "      <td>13.45</td>\n",
       "      <td>18</td>\n",
       "      <td>15.93</td>\n",
       "      <td>35</td>\n",
       "      <td>12.73</td>\n",
       "      <td>2018-19</td>\n",
       "      <td>NaN</td>\n",
       "    </tr>\n",
       "    <tr>\n",
       "      <th>4</th>\n",
       "      <td>1.964733e+13</td>\n",
       "      <td>19.0</td>\n",
       "      <td>1964733.0</td>\n",
       "      <td>1931856.0</td>\n",
       "      <td>S</td>\n",
       "      <td>Whitman Continuation</td>\n",
       "      <td>Los Angeles Unified</td>\n",
       "      <td>Los Angeles</td>\n",
       "      <td>18.0</td>\n",
       "      <td>14.0</td>\n",
       "      <td>...</td>\n",
       "      <td>*</td>\n",
       "      <td>*</td>\n",
       "      <td>*</td>\n",
       "      <td>*</td>\n",
       "      <td>*</td>\n",
       "      <td>*</td>\n",
       "      <td>*</td>\n",
       "      <td>*</td>\n",
       "      <td>2018-19</td>\n",
       "      <td>NaN</td>\n",
       "    </tr>\n",
       "  </tbody>\n",
       "</table>\n",
       "<p>5 rows × 26 columns</p>\n",
       "</div>"
      ],
      "text/plain": [
       "            CDS  CCode     CDCode      SCode RType                    SName  \\\n",
       "0  6.615981e+12    6.0   661598.0   630046.0     S  Colusa Alternative Home   \n",
       "1  6.616061e+12    6.0   661606.0   634758.0     S          Maxwell Sr High   \n",
       "2  1.964733e+13   19.0  1964733.0  1930924.0     S      Belmont Senior High   \n",
       "3  1.964733e+13   19.0  1964733.0  1931476.0     S  Canoga Park Senior High   \n",
       "4  1.964733e+13   19.0  1964733.0  1931856.0     S     Whitman Continuation   \n",
       "\n",
       "                 DName        CName  Enroll12  NumTSTTakr12  ...  \\\n",
       "0       Colusa Unified       Colusa      18.0           0.0  ...   \n",
       "1      Maxwell Unified       Colusa      29.0          10.0  ...   \n",
       "2  Los Angeles Unified  Los Angeles     206.0         102.0  ...   \n",
       "3  Los Angeles Unified  Los Angeles     227.0         113.0  ...   \n",
       "4  Los Angeles Unified  Los Angeles      18.0          14.0  ...   \n",
       "\n",
       "  NumERWBenchmark11 PctERWBenchmark11 NumMathBenchmark11 PctMathBenchmark11  \\\n",
       "0               NaN               NaN                NaN                NaN   \n",
       "1                 *                 *                  *                  *   \n",
       "2                42             24.14                 12               6.90   \n",
       "3                97             35.27                 37              13.45   \n",
       "4                 *                 *                  *                  *   \n",
       "\n",
       "   TotNumBothBenchmark12  PctBothBenchmark12 TotNumBothBenchmark11  \\\n",
       "0                    NaN                 NaN                   NaN   \n",
       "1                      *                   *                     *   \n",
       "2                     14               13.73                    11   \n",
       "3                     18               15.93                    35   \n",
       "4                      *                   *                     *   \n",
       "\n",
       "  PctBothBenchmark11     Year Unnamed: 25  \n",
       "0                NaN  2018-19         NaN  \n",
       "1                  *  2018-19         NaN  \n",
       "2               6.32  2018-19         NaN  \n",
       "3              12.73  2018-19         NaN  \n",
       "4                  *  2018-19         NaN  \n",
       "\n",
       "[5 rows x 26 columns]"
      ]
     },
     "execution_count": 6,
     "metadata": {},
     "output_type": "execute_result"
    }
   ],
   "source": [
    "# First five rows of each dataframe. Add/Delete pound sign to comment out/in the code\n",
    "df_sat19.head()\n",
    "#df_sat20.head()"
   ]
  },
  {
   "cell_type": "markdown",
   "metadata": {},
   "source": [
    "In scanning the columns for df_sat19 above, I noticed immediately there is an 'Unnamed:25' column at the last index. This column column was dropped in the code cell below, in addition to dropping na values, and dropping rows in both df_sat19 and df_sat20 for which the specified columns had '*' values"
   ]
  },
  {
   "cell_type": "code",
   "execution_count": 7,
   "metadata": {
    "ExecuteTime": {
     "end_time": "2021-10-08T19:32:25.138838Z",
     "start_time": "2021-10-08T19:32:25.108840Z"
    },
    "code_folding": [
     0
    ]
   },
   "outputs": [],
   "source": [
    "# Dropping null values in df_sat19, df_sat20\n",
    "# Also need to drop extra column at index 25 in df_sat19. This needs to be dropped first,\n",
    "# before using .dropna() because column contains all NaN\n",
    "df_sat19.drop(['Unnamed: 25'], axis=1, inplace=True)\n",
    "df_sat19.dropna(inplace=True)\n",
    "df_sat20.dropna(inplace=True)\n",
    "\n",
    "# Dropping '*' in 'Pct___Benchmark___' for df_sat19, df_sat20\n",
    "df_sat19.drop(df_sat19[df_sat19['PctERWBenchmark12'] == '*'].index, axis=0, inplace=True)\n",
    "df_sat19.drop(df_sat19[df_sat19['PctMathBenchmark12'] == '*'].index, axis=0, inplace=True)\n",
    "df_sat19.drop(df_sat19[df_sat19['PctERWBenchmark11'] == '*'].index, axis=0, inplace=True)\n",
    "df_sat19.drop(df_sat19[df_sat19['PctMathBenchmark11'] == '*'].index, axis=0, inplace=True)\n",
    "df_sat19.drop(df_sat19[df_sat19['PctBothBenchmark12'] == '*'].index, axis=0, inplace=True)\n",
    "df_sat19.drop(df_sat19[df_sat19['PctBothBenchmark11'] == '*'].index, axis=0, inplace=True)\n",
    "\n",
    "df_sat20.drop(df_sat20[df_sat20['PctERWBenchmark12'] == '*'].index, axis=0, inplace=True)\n",
    "df_sat20.drop(df_sat20[df_sat20['PctMathBenchmark12'] == '*'].index, axis=0, inplace=True)\n",
    "df_sat20.drop(df_sat20[df_sat20['PctERWBenchmark11'] == '*'].index, axis=0, inplace=True)\n",
    "df_sat20.drop(df_sat20[df_sat20['PctMathBenchmark11'] == '*'].index, axis=0, inplace=True)\n",
    "df_sat20.drop(df_sat20[df_sat20['PctBothBenchmark12'] == '*'].index, axis=0, inplace=True)\n",
    "df_sat20.drop(df_sat20[df_sat20['PctBothBenchmark11'] == '*'].index, axis=0, inplace=True)"
   ]
  },
  {
   "cell_type": "markdown",
   "metadata": {},
   "source": [
    "In the next two cells, conversion functions are called and the two data frames are merged. Duplicate data for schools with entry for two years were dropped, in addition to the state-wide data.\n",
    "\n",
    "Columns created for SAT performance values after applying the success scalar. Total potential increase in students meeting the benchmarks are calculated.\n",
    "\n",
    "Lastly, df_final assigned as the merged dataframe, filtered for scaled performance values less than or equal to one. df_final exported as 'college_spring_scalar_applied.csv'"
   ]
  },
  {
   "cell_type": "code",
   "execution_count": 8,
   "metadata": {
    "ExecuteTime": {
     "end_time": "2021-10-08T19:32:25.185126Z",
     "start_time": "2021-10-08T19:32:25.139838Z"
    },
    "code_folding": [
     0
    ]
   },
   "outputs": [],
   "source": [
    "# Converting datatypes\n",
    "\n",
    "df_sat19['pct_erw_bm_12'] = df_sat19['PctERWBenchmark12'].map(pct_flt_conv2,None)\n",
    "df_sat19['pct_math_bm_12'] = df_sat19['PctMathBenchmark12'].map(pct_flt_conv2,None)\n",
    "df_sat19['pct_erw_bm_11'] = df_sat19['PctERWBenchmark11'].map(pct_flt_conv2,None)\n",
    "df_sat19['pct_math_bm_11'] = df_sat19['PctMathBenchmark11'].map(pct_flt_conv2,None)\n",
    "df_sat19['pct_both_bm_12'] = df_sat19['PctBothBenchmark12'].map(pct_flt_conv2,None)\n",
    "df_sat19['pct_both_bm_11'] = df_sat19['PctBothBenchmark11'].map(pct_flt_conv2,None)\n",
    "\n",
    "df_sat19['CDS'] = df_sat19['CDS'].map(flt_int_conversion,None)\n",
    "df_sat19['CCode'] = df_sat19['CCode'].map(flt_int_conversion,None)\n",
    "df_sat19['CDCode'] = df_sat19['CDCode'].map(flt_int_conversion,None)\n",
    "df_sat19['SCode'] = df_sat19['SCode'].map(flt_int_conversion,None)\n",
    "df_sat19['Enroll12'] = df_sat19['Enroll12'].map(flt_int_conversion,None)\n",
    "df_sat19['NumTSTTakr12'] = df_sat19['NumTSTTakr12'].map(flt_int_conversion,None)\n",
    "df_sat19['Enroll11'] = df_sat19['Enroll11'].map(flt_int_conversion,None)\n",
    "df_sat19['NumTSTTakr11'] = df_sat19['NumTSTTakr11'].map(flt_int_conversion,None)\n",
    "\n",
    "df_sat20['CDS'] = df_sat20['CDS'].map(flt_int_conversion,None)\n",
    "df_sat20['pct_erw_bm_12'] = df_sat20['PctERWBenchmark12'].map(pct_flt_conv2,None)\n",
    "df_sat20['pct_math_bm_12'] = df_sat20['PctMathBenchmark12'].map(pct_flt_conv2,None)\n",
    "df_sat20['pct_erw_bm_11'] = df_sat20['PctERWBenchmark11'].map(pct_flt_conv2,None)\n",
    "df_sat20['pct_math_bm_11'] = df_sat20['PctMathBenchmark11'].map(pct_flt_conv2,None)\n",
    "df_sat20['pct_both_bm_12'] = df_sat20['PctBothBenchmark12'].map(pct_flt_conv2,None)\n",
    "df_sat20['pct_both_bm_11'] = df_sat20['PctBothBenchmark11'].map(pct_flt_conv2,None)"
   ]
  },
  {
   "cell_type": "code",
   "execution_count": 9,
   "metadata": {
    "ExecuteTime": {
     "end_time": "2021-10-08T19:32:25.217134Z",
     "start_time": "2021-10-08T19:32:25.186126Z"
    },
    "code_folding": [
     0
    ]
   },
   "outputs": [],
   "source": [
    "# Merging, then deleting schools with two rows, keeping latest data,\n",
    "# Dropping unwanted columns and aggregated state data\n",
    "\n",
    "frames = [df_sat19, df_sat20]\n",
    "df_sat_19_20 = pd.concat(frames)\n",
    "df_sat_19_20.sort_values(by=['SName','Year']).drop_duplicates(subset='SName', keep='last', inplace=True)\n",
    "df_sat_19_20.drop(columns=['CCode','CDCode','SCode','NumERWBenchmark12','PctERWBenchmark12',\n",
    "                   'NumMathBenchmark12', 'PctMathBenchmark12','NumERWBenchmark11','PctERWBenchmark11',\n",
    "                   'NumMathBenchmark11','PctMathBenchmark11', 'TotNumBothBenchmark12','RType',\n",
    "                   'PctBothBenchmark12','TotNumBothBenchmark11', 'PctBothBenchmark11',\n",
    "                    'pct_both_bm_11','pct_both_bm_12','Enroll11','Enroll12','Year','CDS',\n",
    "                    'CName'], inplace=True)\n",
    "df_sat_19_20.drop(index=2036,inplace=True)\n",
    "df_sat_19_20.rename(str.lower, axis='columns',inplace=True)\n",
    "\n",
    "# Adding potential impact, total potential calculation\n",
    "df_sat_19_20['imp_erw_bm_12'] = df_sat_19_20['pct_erw_bm_12'].map(potential_impact_ERW,None)\n",
    "df_sat_19_20['imp_math_bm_12'] = df_sat_19_20['pct_math_bm_12'].map(potential_impact_ERW,None)\n",
    "df_sat_19_20['imp_erw_bm_11'] = df_sat_19_20['pct_erw_bm_11'].map(potential_impact_ERW,None)\n",
    "df_sat_19_20['imp_math_bm_11'] = df_sat_19_20['pct_math_bm_11'].map(potential_impact_ERW,None)\n",
    "df_sat_19_20['tot_imp_erw_bm_12'] = round(df_sat_19_20['imp_erw_bm_12'] * df_sat_19_20['numtsttakr12'])\n",
    "df_sat_19_20['tot_imp_erw_bm_12'] = df_sat_19_20['tot_imp_erw_bm_12'].map(flt_int_conversion,None)\n",
    "df_sat_19_20['tot_imp_math_bm_12'] = round(df_sat_19_20['imp_math_bm_12'] * df_sat_19_20['numtsttakr12'])\n",
    "df_sat_19_20['tot_imp_math_bm_12'] = df_sat_19_20['tot_imp_math_bm_12'].map(flt_int_conversion,None)\n",
    "df_sat_19_20['tot_imp_erw_bm_11'] = round(df_sat_19_20['imp_erw_bm_11'] * df_sat_19_20['numtsttakr11'])\n",
    "df_sat_19_20['tot_imp_erw_bm_11'] = df_sat_19_20['tot_imp_erw_bm_11'].map(flt_int_conversion,None)\n",
    "df_sat_19_20['tot_imp_math_bm_11'] = round(df_sat_19_20['imp_math_bm_11'] * df_sat_19_20['numtsttakr11'])\n",
    "df_sat_19_20['tot_imp_math_bm_11'] = df_sat_19_20['tot_imp_math_bm_11'].map(flt_int_conversion,None)\n",
    "\n",
    "# Filtering for only schools with (potential increase) + (percent passed) less than 100%\n",
    "df_final = df_sat_19_20[(df_sat_19_20['pct_erw_bm_12'] <= .5648) & (df_sat_19_20['pct_math_bm_12'] <= .4333) &\n",
    "            (df_sat_19_20['pct_erw_bm_11'] <= .5648) & (df_sat_19_20['pct_math_bm_11'] <= .4333)]"
   ]
  },
  {
   "cell_type": "code",
   "execution_count": 10,
   "metadata": {
    "ExecuteTime": {
     "end_time": "2021-10-08T19:32:25.233137Z",
     "start_time": "2021-10-08T19:32:25.218134Z"
    }
   },
   "outputs": [
    {
     "data": {
      "text/html": [
       "<div>\n",
       "<style scoped>\n",
       "    .dataframe tbody tr th:only-of-type {\n",
       "        vertical-align: middle;\n",
       "    }\n",
       "\n",
       "    .dataframe tbody tr th {\n",
       "        vertical-align: top;\n",
       "    }\n",
       "\n",
       "    .dataframe thead th {\n",
       "        text-align: right;\n",
       "    }\n",
       "</style>\n",
       "<table border=\"1\" class=\"dataframe\">\n",
       "  <thead>\n",
       "    <tr style=\"text-align: right;\">\n",
       "      <th></th>\n",
       "      <th>sname</th>\n",
       "      <th>dname</th>\n",
       "      <th>numtsttakr12</th>\n",
       "      <th>numtsttakr11</th>\n",
       "      <th>pct_erw_bm_12</th>\n",
       "      <th>pct_math_bm_12</th>\n",
       "      <th>pct_erw_bm_11</th>\n",
       "      <th>pct_math_bm_11</th>\n",
       "      <th>imp_erw_bm_12</th>\n",
       "      <th>imp_math_bm_12</th>\n",
       "      <th>imp_erw_bm_11</th>\n",
       "      <th>imp_math_bm_11</th>\n",
       "      <th>tot_imp_erw_bm_12</th>\n",
       "      <th>tot_imp_math_bm_12</th>\n",
       "      <th>tot_imp_erw_bm_11</th>\n",
       "      <th>tot_imp_math_bm_11</th>\n",
       "    </tr>\n",
       "  </thead>\n",
       "  <tbody>\n",
       "    <tr>\n",
       "      <th>2</th>\n",
       "      <td>Belmont Senior High</td>\n",
       "      <td>Los Angeles Unified</td>\n",
       "      <td>102</td>\n",
       "      <td>174</td>\n",
       "      <td>0.3039</td>\n",
       "      <td>0.1373</td>\n",
       "      <td>0.2414</td>\n",
       "      <td>0.0690</td>\n",
       "      <td>0.235279</td>\n",
       "      <td>0.106298</td>\n",
       "      <td>0.186892</td>\n",
       "      <td>0.053420</td>\n",
       "      <td>24</td>\n",
       "      <td>11</td>\n",
       "      <td>33</td>\n",
       "      <td>9</td>\n",
       "    </tr>\n",
       "    <tr>\n",
       "      <th>3</th>\n",
       "      <td>Canoga Park Senior High</td>\n",
       "      <td>Los Angeles Unified</td>\n",
       "      <td>113</td>\n",
       "      <td>275</td>\n",
       "      <td>0.4779</td>\n",
       "      <td>0.1593</td>\n",
       "      <td>0.3527</td>\n",
       "      <td>0.1345</td>\n",
       "      <td>0.369990</td>\n",
       "      <td>0.123330</td>\n",
       "      <td>0.273060</td>\n",
       "      <td>0.104130</td>\n",
       "      <td>42</td>\n",
       "      <td>14</td>\n",
       "      <td>75</td>\n",
       "      <td>29</td>\n",
       "    </tr>\n",
       "    <tr>\n",
       "      <th>9</th>\n",
       "      <td>New Open World Academy K-12</td>\n",
       "      <td>Los Angeles Unified</td>\n",
       "      <td>68</td>\n",
       "      <td>79</td>\n",
       "      <td>0.2500</td>\n",
       "      <td>0.0882</td>\n",
       "      <td>0.2785</td>\n",
       "      <td>0.1266</td>\n",
       "      <td>0.193550</td>\n",
       "      <td>0.068284</td>\n",
       "      <td>0.215615</td>\n",
       "      <td>0.098014</td>\n",
       "      <td>13</td>\n",
       "      <td>5</td>\n",
       "      <td>17</td>\n",
       "      <td>8</td>\n",
       "    </tr>\n",
       "    <tr>\n",
       "      <th>33</th>\n",
       "      <td>Antelope Valley High</td>\n",
       "      <td>Antelope Valley Union High</td>\n",
       "      <td>83</td>\n",
       "      <td>299</td>\n",
       "      <td>0.4458</td>\n",
       "      <td>0.1084</td>\n",
       "      <td>0.2408</td>\n",
       "      <td>0.0836</td>\n",
       "      <td>0.345138</td>\n",
       "      <td>0.083923</td>\n",
       "      <td>0.186427</td>\n",
       "      <td>0.064723</td>\n",
       "      <td>29</td>\n",
       "      <td>7</td>\n",
       "      <td>56</td>\n",
       "      <td>19</td>\n",
       "    </tr>\n",
       "    <tr>\n",
       "      <th>34</th>\n",
       "      <td>Paramount High</td>\n",
       "      <td>Paramount Unified</td>\n",
       "      <td>932</td>\n",
       "      <td>1058</td>\n",
       "      <td>0.3777</td>\n",
       "      <td>0.1985</td>\n",
       "      <td>0.3715</td>\n",
       "      <td>0.1824</td>\n",
       "      <td>0.292415</td>\n",
       "      <td>0.153679</td>\n",
       "      <td>0.287615</td>\n",
       "      <td>0.141214</td>\n",
       "      <td>273</td>\n",
       "      <td>143</td>\n",
       "      <td>304</td>\n",
       "      <td>149</td>\n",
       "    </tr>\n",
       "  </tbody>\n",
       "</table>\n",
       "</div>"
      ],
      "text/plain": [
       "                          sname                       dname  numtsttakr12  \\\n",
       "2           Belmont Senior High         Los Angeles Unified           102   \n",
       "3       Canoga Park Senior High         Los Angeles Unified           113   \n",
       "9   New Open World Academy K-12         Los Angeles Unified            68   \n",
       "33         Antelope Valley High  Antelope Valley Union High            83   \n",
       "34               Paramount High           Paramount Unified           932   \n",
       "\n",
       "    numtsttakr11  pct_erw_bm_12  pct_math_bm_12  pct_erw_bm_11  \\\n",
       "2            174         0.3039          0.1373         0.2414   \n",
       "3            275         0.4779          0.1593         0.3527   \n",
       "9             79         0.2500          0.0882         0.2785   \n",
       "33           299         0.4458          0.1084         0.2408   \n",
       "34          1058         0.3777          0.1985         0.3715   \n",
       "\n",
       "    pct_math_bm_11  imp_erw_bm_12  imp_math_bm_12  imp_erw_bm_11  \\\n",
       "2           0.0690       0.235279        0.106298       0.186892   \n",
       "3           0.1345       0.369990        0.123330       0.273060   \n",
       "9           0.1266       0.193550        0.068284       0.215615   \n",
       "33          0.0836       0.345138        0.083923       0.186427   \n",
       "34          0.1824       0.292415        0.153679       0.287615   \n",
       "\n",
       "    imp_math_bm_11  tot_imp_erw_bm_12  tot_imp_math_bm_12  tot_imp_erw_bm_11  \\\n",
       "2         0.053420                 24                  11                 33   \n",
       "3         0.104130                 42                  14                 75   \n",
       "9         0.098014                 13                   5                 17   \n",
       "33        0.064723                 29                   7                 56   \n",
       "34        0.141214                273                 143                304   \n",
       "\n",
       "    tot_imp_math_bm_11  \n",
       "2                    9  \n",
       "3                   29  \n",
       "9                    8  \n",
       "33                  19  \n",
       "34                 149  "
      ]
     },
     "execution_count": 10,
     "metadata": {},
     "output_type": "execute_result"
    }
   ],
   "source": [
    "# Exporting df_final\n",
    "df_final.to_csv('../data/college_spring_scalar_applied.csv', index = False)\n",
    "df_final.head()"
   ]
  },
  {
   "cell_type": "markdown",
   "metadata": {},
   "source": [
    "### Data Dictionary\n",
    "\n",
    "Now that we've fixed our data, and given it appropriate names, let's create a [data dictionary](http://library.ucmerced.edu/node/10249). \n",
    "\n",
    "A data dictionary provides a quick overview of features/variables/columns, alongside data types and descriptions. The more descriptive you can be, the more useful this document is.\n",
    "\n",
    "Example of a Fictional Data Dictionary Entry: \n",
    "\n",
    "|Feature|Type|Dataset|Description|\n",
    "|---|---|---|---|\n",
    "|**county_pop**|*integer*|2010 census|The population of the county (units in thousands, where 2.5 represents 2500 people).| \n",
    "|**per_poverty**|*float*|2010 census|The percent of the county over the age of 18 living below the 200% of official US poverty rate (units percent to two decimal places 98.10 means 98.1%)|\n",
    "\n",
    "[Here's a quick link to a short guide for formatting markdown in Jupyter notebooks](https://jupyter-notebook.readthedocs.io/en/stable/examples/Notebook/Working%20With%20Markdown%20Cells.html).\n",
    "\n",
    "Provided is the skeleton for formatting a markdown table, with columns headers that will help you create a data dictionary to quickly summarize your data, as well as some examples. **This would be a great thing to copy and paste into your custom README for this project.**\n",
    "\n",
    "*Note*: if you are unsure of what a feature is, check the source of the data! This can be found in the README."
   ]
  },
  {
   "cell_type": "markdown",
   "metadata": {},
   "source": [
    "|Feature|Type|Dataset|Description|\n",
    "|---|---|---|---|\n",
    "|**sname**|*object*|SAT|School Name|\n",
    "|**dname**|*object*|SAT|District Data|\n",
    "|**numtsttakr12**|*integer*|SAT|Number of test takers in the 12th grade|\n",
    "|**numtsttakr11**|*integer*|SAT|Number of test takers in the 11th grade|\n",
    "|**pct_erw_bm_12**|*float*|SAT|Actual 12th-grade students who met the Evidence-Based Reading & Writing benchmark.|\n",
    "|**pct_math_bm_12**|*float*|SAT|Actual 12th-grade students who met the Math benchmark.|\n",
    "|**pct_erw_bm_11**|*float*|SAT|Actual 11th-grade students who met the Evidence-Based Reading & Writing benchmark.|\n",
    "|**pct_math_bm_11**|*float*|SAT|Actual 11th-grade students who met the Math benchmark.|\n",
    "|**imp_erw_bm_12**|*float*|SAT|Projected impact: 12th-grade students predicted to meet the Evidence-Based Reading & Writing benchmark. Calculated as percentage of 12th-grade students who met benchmark times College Spring success scalar.|\n",
    "|**imp_math_bm_12**|*float*|SAT|Projected impact: 12th-grade students predicted to meet the Math benchmark. Calculated as percentage of 12th-grade students who met benchmark times College Spring success scalar.|\n",
    "|**imp_erw_bm_11**|*float*|SAT|Projected impact: 11th-grade students predicted to meet the Evidence-Based Reading & Writing benchmark. Calculated as percentage of 11th-grade students who met benchmark times College Spring success scalar.|\n",
    "|**imp_math_bm_11**|*float*|SAT|Projected impact: 11th-grade students predicted to meet the Math benchmark. Calculated as percentage of 11th-grade students who met benchmark times College Spring success scalar.|\n",
    "|**tot_imp_erw_bm_12**|*integer*|SAT|Number of potential 12th-grade students who could meet SAT Evidence-Based Reading & Writing benchmark.|\n",
    "|**tot_imp_math_bm_12**|*integer*|SAT|Number of potential 12th-grade students who could meet SAT Math benchmark.|\n",
    "|**tot_imp_erw_bm_11**|*integer*|SAT|Number of potential 11th-grade students who could meet SAT Evidence-Based Reading & Writing benchmark.|\n",
    "|**tot_imp_math_bm_11**|*integer*|SAT|Number of potential 11th-grade students who could meet SAT Math benchmark.|\n"
   ]
  },
  {
   "cell_type": "markdown",
   "metadata": {},
   "source": [
    "## Exploratory Data Analysis\n",
    "\n",
    "Complete the following steps to explore your data. You are welcome to do more EDA than the steps outlined here as you feel necessary:\n",
    "1. Summary Statistics.\n",
    "2. Use a **dictionary comprehension** to apply the standard deviation function you create in part 1 to each numeric column in the dataframe.  **No loops**.\n",
    "    - Assign the output to variable `sd` as a dictionary where: \n",
    "        - Each column name is now a key \n",
    "        - That standard deviation of the column is the value \n",
    "        - *Example Output :* `{'ACT_Math': 120, 'ACT_Reading': 120, ...}`\n",
    "3. Investigate trends in the data.\n",
    "    - Using sorting and/or masking (along with the `.head()` method to avoid printing our entire dataframe), consider questions relevant to your problem statement. Some examples are provided below (but feel free to change these questions for your specific problem):\n",
    "        - Which states have the highest and lowest participation rates for the 2017, 2019, or 2019 SAT and ACT?\n",
    "        - Which states have the highest and lowest mean total/composite scores for the 2017, 2019, or 2019 SAT and ACT?\n",
    "        - Do any states with 100% participation on a given test have a rate change year-to-year?\n",
    "        - Do any states show have >50% participation on *both* tests each year?\n",
    "        - Which colleges have the highest median SAT and ACT scores for admittance?\n",
    "        - Which California school districts have the highest and lowest mean test scores?\n",
    "    - **You should comment on your findings at each step in a markdown cell below your code block**. Make sure you include at least one example of sorting your dataframe by a column, and one example of using boolean filtering (i.e., masking) to select a subset of the dataframe."
   ]
  },
  {
   "cell_type": "code",
   "execution_count": 11,
   "metadata": {
    "ExecuteTime": {
     "end_time": "2021-10-08T19:32:25.265144Z",
     "start_time": "2021-10-08T19:32:25.233137Z"
    }
   },
   "outputs": [
    {
     "data": {
      "text/html": [
       "<div>\n",
       "<style scoped>\n",
       "    .dataframe tbody tr th:only-of-type {\n",
       "        vertical-align: middle;\n",
       "    }\n",
       "\n",
       "    .dataframe tbody tr th {\n",
       "        vertical-align: top;\n",
       "    }\n",
       "\n",
       "    .dataframe thead th {\n",
       "        text-align: right;\n",
       "    }\n",
       "</style>\n",
       "<table border=\"1\" class=\"dataframe\">\n",
       "  <thead>\n",
       "    <tr style=\"text-align: right;\">\n",
       "      <th></th>\n",
       "      <th>count</th>\n",
       "      <th>mean</th>\n",
       "      <th>std</th>\n",
       "      <th>min</th>\n",
       "      <th>25%</th>\n",
       "      <th>50%</th>\n",
       "      <th>75%</th>\n",
       "      <th>max</th>\n",
       "    </tr>\n",
       "  </thead>\n",
       "  <tbody>\n",
       "    <tr>\n",
       "      <th>numtsttakr12</th>\n",
       "      <td>357.0</td>\n",
       "      <td>127.145658</td>\n",
       "      <td>131.356369</td>\n",
       "      <td>15.0</td>\n",
       "      <td>46.000000</td>\n",
       "      <td>79.000000</td>\n",
       "      <td>137.000000</td>\n",
       "      <td>932.000000</td>\n",
       "    </tr>\n",
       "    <tr>\n",
       "      <th>numtsttakr11</th>\n",
       "      <td>357.0</td>\n",
       "      <td>199.154062</td>\n",
       "      <td>165.439205</td>\n",
       "      <td>15.0</td>\n",
       "      <td>70.000000</td>\n",
       "      <td>131.000000</td>\n",
       "      <td>298.000000</td>\n",
       "      <td>1058.000000</td>\n",
       "    </tr>\n",
       "    <tr>\n",
       "      <th>pct_erw_bm_12</th>\n",
       "      <td>357.0</td>\n",
       "      <td>0.377692</td>\n",
       "      <td>0.120205</td>\n",
       "      <td>0.0</td>\n",
       "      <td>0.300000</td>\n",
       "      <td>0.391900</td>\n",
       "      <td>0.472200</td>\n",
       "      <td>0.563800</td>\n",
       "    </tr>\n",
       "    <tr>\n",
       "      <th>pct_math_bm_12</th>\n",
       "      <td>357.0</td>\n",
       "      <td>0.164546</td>\n",
       "      <td>0.087170</td>\n",
       "      <td>0.0</td>\n",
       "      <td>0.102000</td>\n",
       "      <td>0.157900</td>\n",
       "      <td>0.222200</td>\n",
       "      <td>0.391300</td>\n",
       "    </tr>\n",
       "    <tr>\n",
       "      <th>pct_erw_bm_11</th>\n",
       "      <td>357.0</td>\n",
       "      <td>0.349640</td>\n",
       "      <td>0.122915</td>\n",
       "      <td>0.0</td>\n",
       "      <td>0.263200</td>\n",
       "      <td>0.359900</td>\n",
       "      <td>0.446300</td>\n",
       "      <td>0.562700</td>\n",
       "    </tr>\n",
       "    <tr>\n",
       "      <th>pct_math_bm_11</th>\n",
       "      <td>357.0</td>\n",
       "      <td>0.162673</td>\n",
       "      <td>0.089774</td>\n",
       "      <td>0.0</td>\n",
       "      <td>0.098000</td>\n",
       "      <td>0.148600</td>\n",
       "      <td>0.225000</td>\n",
       "      <td>0.433000</td>\n",
       "    </tr>\n",
       "    <tr>\n",
       "      <th>imp_erw_bm_12</th>\n",
       "      <td>357.0</td>\n",
       "      <td>0.292409</td>\n",
       "      <td>0.093063</td>\n",
       "      <td>0.0</td>\n",
       "      <td>0.232260</td>\n",
       "      <td>0.303409</td>\n",
       "      <td>0.365577</td>\n",
       "      <td>0.436494</td>\n",
       "    </tr>\n",
       "    <tr>\n",
       "      <th>imp_math_bm_12</th>\n",
       "      <td>357.0</td>\n",
       "      <td>0.127392</td>\n",
       "      <td>0.067487</td>\n",
       "      <td>0.0</td>\n",
       "      <td>0.078968</td>\n",
       "      <td>0.122246</td>\n",
       "      <td>0.172027</td>\n",
       "      <td>0.302944</td>\n",
       "    </tr>\n",
       "    <tr>\n",
       "      <th>imp_erw_bm_11</th>\n",
       "      <td>357.0</td>\n",
       "      <td>0.270691</td>\n",
       "      <td>0.095161</td>\n",
       "      <td>0.0</td>\n",
       "      <td>0.203769</td>\n",
       "      <td>0.278635</td>\n",
       "      <td>0.345525</td>\n",
       "      <td>0.435642</td>\n",
       "    </tr>\n",
       "    <tr>\n",
       "      <th>imp_math_bm_11</th>\n",
       "      <td>357.0</td>\n",
       "      <td>0.125942</td>\n",
       "      <td>0.069503</td>\n",
       "      <td>0.0</td>\n",
       "      <td>0.075872</td>\n",
       "      <td>0.115046</td>\n",
       "      <td>0.174195</td>\n",
       "      <td>0.335229</td>\n",
       "    </tr>\n",
       "    <tr>\n",
       "      <th>tot_imp_erw_bm_12</th>\n",
       "      <td>357.0</td>\n",
       "      <td>38.369748</td>\n",
       "      <td>41.316577</td>\n",
       "      <td>0.0</td>\n",
       "      <td>12.000000</td>\n",
       "      <td>23.000000</td>\n",
       "      <td>49.000000</td>\n",
       "      <td>273.000000</td>\n",
       "    </tr>\n",
       "    <tr>\n",
       "      <th>tot_imp_math_bm_12</th>\n",
       "      <td>357.0</td>\n",
       "      <td>18.204482</td>\n",
       "      <td>22.963581</td>\n",
       "      <td>0.0</td>\n",
       "      <td>5.000000</td>\n",
       "      <td>9.000000</td>\n",
       "      <td>21.000000</td>\n",
       "      <td>159.000000</td>\n",
       "    </tr>\n",
       "    <tr>\n",
       "      <th>tot_imp_erw_bm_11</th>\n",
       "      <td>357.0</td>\n",
       "      <td>56.411765</td>\n",
       "      <td>53.682181</td>\n",
       "      <td>0.0</td>\n",
       "      <td>16.000000</td>\n",
       "      <td>36.000000</td>\n",
       "      <td>84.000000</td>\n",
       "      <td>304.000000</td>\n",
       "    </tr>\n",
       "    <tr>\n",
       "      <th>tot_imp_math_bm_11</th>\n",
       "      <td>357.0</td>\n",
       "      <td>26.406162</td>\n",
       "      <td>27.831864</td>\n",
       "      <td>0.0</td>\n",
       "      <td>7.000000</td>\n",
       "      <td>16.000000</td>\n",
       "      <td>37.000000</td>\n",
       "      <td>152.000000</td>\n",
       "    </tr>\n",
       "  </tbody>\n",
       "</table>\n",
       "</div>"
      ],
      "text/plain": [
       "                    count        mean         std   min        25%  \\\n",
       "numtsttakr12        357.0  127.145658  131.356369  15.0  46.000000   \n",
       "numtsttakr11        357.0  199.154062  165.439205  15.0  70.000000   \n",
       "pct_erw_bm_12       357.0    0.377692    0.120205   0.0   0.300000   \n",
       "pct_math_bm_12      357.0    0.164546    0.087170   0.0   0.102000   \n",
       "pct_erw_bm_11       357.0    0.349640    0.122915   0.0   0.263200   \n",
       "pct_math_bm_11      357.0    0.162673    0.089774   0.0   0.098000   \n",
       "imp_erw_bm_12       357.0    0.292409    0.093063   0.0   0.232260   \n",
       "imp_math_bm_12      357.0    0.127392    0.067487   0.0   0.078968   \n",
       "imp_erw_bm_11       357.0    0.270691    0.095161   0.0   0.203769   \n",
       "imp_math_bm_11      357.0    0.125942    0.069503   0.0   0.075872   \n",
       "tot_imp_erw_bm_12   357.0   38.369748   41.316577   0.0  12.000000   \n",
       "tot_imp_math_bm_12  357.0   18.204482   22.963581   0.0   5.000000   \n",
       "tot_imp_erw_bm_11   357.0   56.411765   53.682181   0.0  16.000000   \n",
       "tot_imp_math_bm_11  357.0   26.406162   27.831864   0.0   7.000000   \n",
       "\n",
       "                           50%         75%          max  \n",
       "numtsttakr12         79.000000  137.000000   932.000000  \n",
       "numtsttakr11        131.000000  298.000000  1058.000000  \n",
       "pct_erw_bm_12         0.391900    0.472200     0.563800  \n",
       "pct_math_bm_12        0.157900    0.222200     0.391300  \n",
       "pct_erw_bm_11         0.359900    0.446300     0.562700  \n",
       "pct_math_bm_11        0.148600    0.225000     0.433000  \n",
       "imp_erw_bm_12         0.303409    0.365577     0.436494  \n",
       "imp_math_bm_12        0.122246    0.172027     0.302944  \n",
       "imp_erw_bm_11         0.278635    0.345525     0.435642  \n",
       "imp_math_bm_11        0.115046    0.174195     0.335229  \n",
       "tot_imp_erw_bm_12    23.000000   49.000000   273.000000  \n",
       "tot_imp_math_bm_12    9.000000   21.000000   159.000000  \n",
       "tot_imp_erw_bm_11    36.000000   84.000000   304.000000  \n",
       "tot_imp_math_bm_11   16.000000   37.000000   152.000000  "
      ]
     },
     "execution_count": 11,
     "metadata": {},
     "output_type": "execute_result"
    }
   ],
   "source": [
    "df_final.describe().T"
   ]
  },
  {
   "cell_type": "code",
   "execution_count": 12,
   "metadata": {
    "ExecuteTime": {
     "end_time": "2021-10-08T19:32:25.281147Z",
     "start_time": "2021-10-08T19:32:25.266145Z"
    }
   },
   "outputs": [
    {
     "data": {
      "text/plain": [
       "dict_keys(['sname', 'dname', 'numtsttakr12', 'numtsttakr11', 'pct_erw_bm_12', 'pct_math_bm_12', 'pct_erw_bm_11', 'pct_math_bm_11', 'imp_erw_bm_12', 'imp_math_bm_12', 'imp_erw_bm_11', 'imp_math_bm_11', 'tot_imp_erw_bm_12', 'tot_imp_math_bm_12', 'tot_imp_erw_bm_11', 'tot_imp_math_bm_11'])"
      ]
     },
     "execution_count": 12,
     "metadata": {},
     "output_type": "execute_result"
    }
   ],
   "source": [
    "sd = {column:df_final[column][:] for column in df_final.columns}\n",
    "sd.keys()"
   ]
  },
  {
   "cell_type": "code",
   "execution_count": 13,
   "metadata": {
    "ExecuteTime": {
     "end_time": "2021-10-08T19:32:25.296151Z",
     "start_time": "2021-10-08T19:32:25.282148Z"
    },
    "code_folding": [
     0
    ]
   },
   "outputs": [
    {
     "data": {
      "text/html": [
       "<div>\n",
       "<style scoped>\n",
       "    .dataframe tbody tr th:only-of-type {\n",
       "        vertical-align: middle;\n",
       "    }\n",
       "\n",
       "    .dataframe tbody tr th {\n",
       "        vertical-align: top;\n",
       "    }\n",
       "\n",
       "    .dataframe thead th {\n",
       "        text-align: right;\n",
       "    }\n",
       "</style>\n",
       "<table border=\"1\" class=\"dataframe\">\n",
       "  <thead>\n",
       "    <tr style=\"text-align: right;\">\n",
       "      <th></th>\n",
       "      <th>numtsttakr11</th>\n",
       "      <th>tot_imp_erw_bm_11</th>\n",
       "      <th>tot_imp_math_bm_11</th>\n",
       "    </tr>\n",
       "    <tr>\n",
       "      <th>dname</th>\n",
       "      <th></th>\n",
       "      <th></th>\n",
       "      <th></th>\n",
       "    </tr>\n",
       "  </thead>\n",
       "  <tbody>\n",
       "    <tr>\n",
       "      <th>Los Angeles Unified</th>\n",
       "      <td>2701</td>\n",
       "      <td>642</td>\n",
       "      <td>303</td>\n",
       "    </tr>\n",
       "    <tr>\n",
       "      <th>Victor Valley Union High</th>\n",
       "      <td>868</td>\n",
       "      <td>212</td>\n",
       "      <td>104</td>\n",
       "    </tr>\n",
       "    <tr>\n",
       "      <th>San Bernardino City Unified</th>\n",
       "      <td>837</td>\n",
       "      <td>193</td>\n",
       "      <td>86</td>\n",
       "    </tr>\n",
       "    <tr>\n",
       "      <th>Compton Unified</th>\n",
       "      <td>664</td>\n",
       "      <td>159</td>\n",
       "      <td>59</td>\n",
       "    </tr>\n",
       "    <tr>\n",
       "      <th>Madera Unified</th>\n",
       "      <td>646</td>\n",
       "      <td>152</td>\n",
       "      <td>66</td>\n",
       "    </tr>\n",
       "    <tr>\n",
       "      <th>Rialto Unified</th>\n",
       "      <td>495</td>\n",
       "      <td>111</td>\n",
       "      <td>54</td>\n",
       "    </tr>\n",
       "    <tr>\n",
       "      <th>Long Beach Unified</th>\n",
       "      <td>473</td>\n",
       "      <td>118</td>\n",
       "      <td>39</td>\n",
       "    </tr>\n",
       "    <tr>\n",
       "      <th>Hacienda la Puente Unified</th>\n",
       "      <td>462</td>\n",
       "      <td>108</td>\n",
       "      <td>98</td>\n",
       "    </tr>\n",
       "    <tr>\n",
       "      <th>Antelope Valley Union High</th>\n",
       "      <td>450</td>\n",
       "      <td>108</td>\n",
       "      <td>36</td>\n",
       "    </tr>\n",
       "    <tr>\n",
       "      <th>Norwalk-La Mirada Unified</th>\n",
       "      <td>259</td>\n",
       "      <td>66</td>\n",
       "      <td>40</td>\n",
       "    </tr>\n",
       "    <tr>\n",
       "      <th>Natomas Unified</th>\n",
       "      <td>228</td>\n",
       "      <td>53</td>\n",
       "      <td>22</td>\n",
       "    </tr>\n",
       "    <tr>\n",
       "      <th>Kern High</th>\n",
       "      <td>48</td>\n",
       "      <td>12</td>\n",
       "      <td>5</td>\n",
       "    </tr>\n",
       "    <tr>\n",
       "      <th>Oakland Unified</th>\n",
       "      <td>41</td>\n",
       "      <td>10</td>\n",
       "      <td>5</td>\n",
       "    </tr>\n",
       "    <tr>\n",
       "      <th>Stockton Unified</th>\n",
       "      <td>36</td>\n",
       "      <td>9</td>\n",
       "      <td>5</td>\n",
       "    </tr>\n",
       "  </tbody>\n",
       "</table>\n",
       "</div>"
      ],
      "text/plain": [
       "                             numtsttakr11  tot_imp_erw_bm_11  \\\n",
       "dname                                                          \n",
       "Los Angeles Unified                  2701                642   \n",
       "Victor Valley Union High              868                212   \n",
       "San Bernardino City Unified           837                193   \n",
       "Compton Unified                       664                159   \n",
       "Madera Unified                        646                152   \n",
       "Rialto Unified                        495                111   \n",
       "Long Beach Unified                    473                118   \n",
       "Hacienda la Puente Unified            462                108   \n",
       "Antelope Valley Union High            450                108   \n",
       "Norwalk-La Mirada Unified             259                 66   \n",
       "Natomas Unified                       228                 53   \n",
       "Kern High                              48                 12   \n",
       "Oakland Unified                        41                 10   \n",
       "Stockton Unified                       36                  9   \n",
       "\n",
       "                             tot_imp_math_bm_11  \n",
       "dname                                            \n",
       "Los Angeles Unified                         303  \n",
       "Victor Valley Union High                    104  \n",
       "San Bernardino City Unified                  86  \n",
       "Compton Unified                              59  \n",
       "Madera Unified                               66  \n",
       "Rialto Unified                               54  \n",
       "Long Beach Unified                           39  \n",
       "Hacienda la Puente Unified                   98  \n",
       "Antelope Valley Union High                   36  \n",
       "Norwalk-La Mirada Unified                    40  \n",
       "Natomas Unified                              22  \n",
       "Kern High                                     5  \n",
       "Oakland Unified                               5  \n",
       "Stockton Unified                              5  "
      ]
     },
     "execution_count": 13,
     "metadata": {},
     "output_type": "execute_result"
    }
   ],
   "source": [
    "# Variables used for analysis\n",
    "sim_perf_erw_11 = df_final['pct_erw_bm_11'].between(.29, .33)\n",
    "sim_perf_math_11 = df_final['pct_math_bm_11'].between(.11, .15)\n",
    "\n",
    "size_comp = df_final[['dname', 'numtsttakr11', 'tot_imp_erw_bm_11', 'tot_imp_math_bm_11']].groupby(\n",
    "    'dname').sum().sort_values('numtsttakr11', ascending=False)\n",
    "\n",
    "school_sim_perf = df_final[sim_perf_erw_11]\n",
    "\n",
    "dist_perf_filter = school_sim_perf[['dname', 'numtsttakr11','tot_imp_erw_bm_11',\n",
    "    'tot_imp_math_bm_11']].groupby('dname').sum().sort_values('numtsttakr11', ascending=False)\n",
    "dist_perf_filter"
   ]
  },
  {
   "cell_type": "markdown",
   "metadata": {},
   "source": [
    "## Analysis\n",
    "\n",
    "In the interest of serving the students with the most immediate need for the program, we will be using the data on 11th grade students. This is because, typically, students take the test for the college application process in the fall of 12th grade.\n",
    "\n",
    "First, I considered adopting the strategy of focusing on a singular school district. All things constant and the number of test takers in the next largest district after LAUSD would almost equal the last year's number of participants for all of Southern California. This also does not take into account the diminishing return of the program for schools have higher performance scores than the College Spring averages. The application of the performance scalar makes most sense, the closer to College Spring the schools perform.\n",
    "\n",
    "Next, I considered the strategy of partnering with schools of similar performance profile. I filtered for just those schools then aggregated the total potential increases in students meeting the benchmark. Assuming the resources required to service public schools are analogous to doing the same for private and charter schools, this approach is more managable. There is also the added benefit of working with multiple districts."
   ]
  },
  {
   "cell_type": "markdown",
   "metadata": {},
   "source": [
    "## Visualize the Data\n",
    "\n",
    "There's not a magic bullet recommendation for the right number of plots to understand a given dataset, but visualizing your data is *always* a good idea. Not only does it allow you to quickly convey your findings (even if you have a non-technical audience), it will often reveal trends in your data that escaped you when you were looking only at numbers. It is important to not only create visualizations, but to **interpret your visualizations** as well.\n",
    "\n",
    "**Every plot should**:\n",
    "- Have a title\n",
    "- Have axis labels\n",
    "- Have appropriate tick labels\n",
    "- Text is legible in a plot\n",
    "- Plots demonstrate meaningful and valid relationships\n",
    "- Have an interpretation to aid understanding\n",
    "\n",
    "Here is an example of what your plots should look like following the above guidelines. Note that while the content of this example is unrelated, the principles of visualization hold:\n",
    "\n",
    "![](https://snag.gy/hCBR1U.jpg)\n",
    "*Interpretation: The above image shows that as we increase our spending on advertising, our sales numbers also tend to increase. There is a positive correlation between advertising spending and sales.*\n",
    "\n",
    "---\n",
    "\n",
    "Here are some prompts to get you started with visualizations. Feel free to add additional visualizations as you see fit:\n",
    "1. Use Seaborn's heatmap with pandas `.corr()` to visualize correlations between all numeric features.\n",
    "    - Heatmaps are generally not appropriate for presentations, and should often be excluded from reports as they can be visually overwhelming. **However**, they can be extremely useful in identify relationships of potential interest (as well as identifying potential collinearity before modeling).\n",
    "    - Please take time to format your output, adding a title. Look through some of the additional arguments and options. (Axis labels aren't really necessary, as long as the title is informative).\n",
    "2. Visualize distributions using histograms. If you have a lot, consider writing a custom function and use subplots.\n",
    "    - *OPTIONAL*: Summarize the underlying distributions of your features (in words & statistics)\n",
    "         - Be thorough in your verbal description of these distributions.\n",
    "         - Be sure to back up these summaries with statistics.\n",
    "         - We generally assume that data we sample from a population will be normally distributed. Do we observe this trend? Explain your answers for each distribution and how you think this will affect estimates made from these data.\n",
    "3. Plot and interpret boxplots. \n",
    "    - Boxplots demonstrate central tendency and spread in variables. In a certain sense, these are somewhat redundant with histograms, but you may be better able to identify clear outliers or differences in IQR, etc.\n",
    "    - Multiple values can be plotted to a single boxplot as long as they are of the same relative scale (meaning they have similar min/max values).\n",
    "    - Each boxplot should:\n",
    "        - Only include variables of a similar scale\n",
    "        - Have clear labels for each variable\n",
    "        - Have appropriate titles and labels\n",
    "4. Plot and interpret scatter plots to view relationships between features. Feel free to write a custom function, and subplot if you'd like. Functions save both time and space.\n",
    "    - Your plots should have:\n",
    "        - Two clearly labeled axes\n",
    "        - A proper title\n",
    "        - Colors and symbols that are clear and unmistakable\n",
    "5. Additional plots of your choosing.\n",
    "\n",
    "- Are there any additional trends or relationships you haven't explored? Was there something interesting you saw that you'd like to dive further into? It's likely that there are a few more plots you might want to generate to support your narrative and recommendations that you are building toward. **As always, make sure you're interpreting your plots as you go**."
   ]
  },
  {
   "cell_type": "code",
   "execution_count": 14,
   "metadata": {
    "ExecuteTime": {
     "end_time": "2021-10-08T19:32:25.597219Z",
     "start_time": "2021-10-08T19:32:25.297151Z"
    },
    "code_folding": [
     0
    ]
   },
   "outputs": [
    {
     "data": {
      "text/plain": [
       "Text(0, 0.5, 'District')"
      ]
     },
     "execution_count": 14,
     "metadata": {},
     "output_type": "execute_result"
    },
    {
     "data": {
      "image/png": "[encoded data removed]",
      "text/plain": [
       "<Figure size 360x576 with 1 Axes>"
      ]
     },
     "metadata": {
      "needs_background": "light"
     },
     "output_type": "display_data"
    }
   ],
   "source": [
    "size_comp[1:21].plot.barh(title = 'School Data Aggregated by District',grid=True,\n",
    "                          figsize=(5,8)).set_ylabel('District')"
   ]
  },
  {
   "cell_type": "code",
   "execution_count": 15,
   "metadata": {
    "ExecuteTime": {
     "end_time": "2021-10-08T19:32:25.945239Z",
     "start_time": "2021-10-08T19:32:25.598219Z"
    },
    "code_folding": [
     0,
     3
    ]
   },
   "outputs": [
    {
     "data": {
      "text/plain": [
       "Text(0, 0.5, 'District')"
      ]
     },
     "execution_count": 15,
     "metadata": {},
     "output_type": "execute_result"
    },
    {
     "data": {
      "image/png": "[encoded data removed]",
      "text/plain": [
       "<Figure size 432x288 with 1 Axes>"
      ]
     },
     "metadata": {
      "needs_background": "light"
     },
     "output_type": "display_data"
    },
    {
     "data": {
      "image/png": "[encoded data removed]",
      "text/plain": [
       "<Figure size 432x288 with 1 Axes>"
      ]
     },
     "metadata": {
      "needs_background": "light"
     },
     "output_type": "display_data"
    }
   ],
   "source": [
    "school_sim_perf.value_counts('dname').plot(grid=True,\n",
    "    kind='barh',title='Count of Schools with Similar Performance, by District',\n",
    "    xticks=[2, 4, 6, 8, 10, 12, 14, 16]).set_ylabel('District')\n",
    "dist_perf_filter[1:].plot(grid=True,\n",
    "    kind='barh', title='Testtakers and Potential Increase in meeting benchmark',\n",
    "    legend=True).set_ylabel('District')"
   ]
  },
  {
   "cell_type": "markdown",
   "metadata": {},
   "source": [
    "## Conclusions and Recommendations"
   ]
  },
  {
   "cell_type": "markdown",
   "metadata": {},
   "source": [
    "Based on your exploration of the data, what are you key takeaways and recommendations? Make sure to answer your question of interest or address your problem statement here."
   ]
  },
  {
   "cell_type": "markdown",
   "metadata": {},
   "source": [
    "In keeping with current company practice of spreading the company's reach, I recommend adopting the second strategy.\n",
    "- Target schools of similar performance profile in multiple districts, with the intent of providing service to wider area.\n",
    "- Focus on maximizing impact, given company resources and staffing. College Spring serves all students, but those that come from low-income backgrounds feel the effects of the program the most.\n",
    "- Top priority is to replicate success in the public school environment."
   ]
  },
  {
   "cell_type": "markdown",
   "metadata": {
    "ExecuteTime": {
     "end_time": "2021-10-08T13:37:49.207554Z",
     "start_time": "2021-10-08T13:37:49.199547Z"
    }
   },
   "source": [
    "## Sources\n",
    "\n",
    "([*2018-2019 Annual Report*](https://collegespring.org/wp-content/uploads/2019/11/CollegeSpring_Annual_Report_November_2019.pdf))\n",
    "\n",
    "College Spring ([*Impact*](https://collegespring.org/our-impact/)) Page\n",
    "\n",
    "bar plot ([*inspiration*](https://stackoverflow.com/questions/48238305/bar-plot-with-groupby))"
   ]
  },
  {
   "cell_type": "markdown",
   "metadata": {},
   "source": [
    "Don't forget to create your README!\n",
    "\n",
    "**To-Do:** *If you combine your problem statement, data dictionary, brief summary of your analysis, and conclusions/recommendations, you have an amazing README.md file that quickly aligns your audience to the contents of your project.* Don't forget to cite your data sources!"
   ]
  }
 ],
 "metadata": {
  "anaconda-cloud": {},
  "kernelspec": {
   "display_name": "Python 3",
   "language": "python",
   "name": "python3"
  },
  "language_info": {
   "codemirror_mode": {
    "name": "ipython",
    "version": 3
   },
   "file_extension": ".py",
   "mimetype": "text/x-python",
   "name": "python",
   "nbconvert_exporter": "python",
   "pygments_lexer": "ipython3",
   "version": "3.8.8"
  }
 },
 "nbformat": 4,
 "nbformat_minor": 4
}
